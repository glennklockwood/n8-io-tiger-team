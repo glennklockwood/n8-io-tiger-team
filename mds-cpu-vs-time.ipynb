{
 "cells": [
  {
   "cell_type": "markdown",
   "metadata": {},
   "source": [
    "# Show how MDS CPU load has changed over time\n",
    "\n",
    "Uses TOKIO to pull the MDS CPU load over a period of time, calculates the average load over each day, and then plots the resulting daily averages over time."
   ]
  },
  {
   "cell_type": "code",
   "execution_count": null,
   "metadata": {},
   "outputs": [],
   "source": [
    "%matplotlib inline"
   ]
  },
  {
   "cell_type": "code",
   "execution_count": null,
   "metadata": {},
   "outputs": [],
   "source": [
    "import datetime"
   ]
  },
  {
   "cell_type": "code",
   "execution_count": null,
   "metadata": {},
   "outputs": [],
   "source": [
    "import matplotlib\n",
    "matplotlib.rcParams['font.size'] = 16\n",
    "import pandas"
   ]
  },
  {
   "cell_type": "code",
   "execution_count": null,
   "metadata": {},
   "outputs": [],
   "source": [
    "import tokio"
   ]
  },
  {
   "cell_type": "code",
   "execution_count": null,
   "metadata": {},
   "outputs": [],
   "source": [
    "# date_start = datetime.datetime(2018, 1, 1)\n",
    "date_start = datetime.datetime(2019, 1, 1)\n",
    "date_end = datetime.datetime(2019, 5, 1)\n",
    "\n",
    "date_now = date_start"
   ]
  },
  {
   "cell_type": "code",
   "execution_count": null,
   "metadata": {},
   "outputs": [],
   "source": [
    "avg_cpu = []\n",
    "while date_now < date_end:\n",
    "    df = tokio.tools.hdf5.get_dataframe_from_time_range(\n",
    "        fsname='cscratch',\n",
    "        dataset_name='mdservers/cpuload',\n",
    "        datetime_start=date_now,\n",
    "        datetime_end=date_now + datetime.timedelta(days=1),\n",
    "    )\n",
    "    if df is not None:\n",
    "        mds_cpu = df.iloc[:, 0].dropna().mean()\n",
    "        avg_cpu.append({\n",
    "            'date': date_now,\n",
    "            'mds_cpu': mds_cpu,\n",
    "        })\n",
    "        print(avg_cpu[-1])\n",
    "    date_now = date_now + datetime.timedelta(days=1)"
   ]
  },
  {
   "cell_type": "code",
   "execution_count": null,
   "metadata": {},
   "outputs": [],
   "source": [
    "df = pandas.DataFrame.from_records(avg_cpu, index='date')"
   ]
  },
  {
   "cell_type": "code",
   "execution_count": null,
   "metadata": {},
   "outputs": [],
   "source": [
    "df.plot()"
   ]
  },
  {
   "cell_type": "code",
   "execution_count": null,
   "metadata": {},
   "outputs": [],
   "source": [
    "fig, ax = matplotlib.pyplot.subplots(figsize=(8, 4))\n",
    "\n",
    "# Plot raw data points\n",
    "ax.plot(df, linestyle='', marker='o', alpha=0.5, label=\"Daily mean\")\n",
    "\n",
    "# Plot sliding seven-day average\n",
    "ax.plot(df.resample('7D').mean(), color='C3', linewidth=2, label=\"7-day mean\")\n",
    "\n",
    "ax.grid()\n",
    "ax.set_ylabel(\"Average MDS\\nCPU Load (%)\")\n",
    "ax.set_title(\"MDS0 Average CPU Load\")\n",
    "ax.legend()\n",
    "for label in ax.get_xmajorticklabels():\n",
    "    label.set_rotation(30)\n",
    "    label.set_horizontalalignment(\"right\")"
   ]
  },
  {
   "cell_type": "code",
   "execution_count": null,
   "metadata": {},
   "outputs": [],
   "source": []
  }
 ],
 "metadata": {
  "kernelspec": {
   "display_name": "pytokio-prod",
   "language": "python",
   "name": "pytokio-prod"
  },
  "language_info": {
   "codemirror_mode": {
    "name": "ipython",
    "version": 3
   },
   "file_extension": ".py",
   "mimetype": "text/x-python",
   "name": "python",
   "nbconvert_exporter": "python",
   "pygments_lexer": "ipython3",
   "version": "3.6.8"
  }
 },
 "nbformat": 4,
 "nbformat_minor": 2
}
